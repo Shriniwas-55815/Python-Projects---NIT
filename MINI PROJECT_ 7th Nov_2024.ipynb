{
 "cells": [
  {
   "cell_type": "code",
   "execution_count": 126,
   "id": "a519baf8-c9dd-4ccf-8c56-14de83d28a01",
   "metadata": {},
   "outputs": [],
   "source": [
    "import openpyxl\n",
    "import pandas as pd\n",
    "\n",
    "workbook = openpyxl.Workbook()\n",
    "sheet = workbook.active\n",
    "\n",
    "\n",
    "data = [\n",
    "    ['NAME','DOMAIN','AGE', 'LOCATION','SALARY','EXP'],\n",
    "    ['Shrniwas','Testing',26,'Bengaluru',5000,5],\n",
    "    ['Mudita','DA',29,'Chennai',5500,7],\n",
    "    ['Rahul','Java',28,'Pune',6000,5],\n",
    "    ['Riya','c',30,'Hydrabad',7500,6],\n",
    "    ['Govid','Java',27,'Pune',8000,4]\n",
    "]\n",
    "\n",
    "for row in data:\n",
    "  sheet.append(row)\n",
    "\n",
    "workbook.save('data.xlsx')"
   ]
  },
  {
   "cell_type": "code",
   "execution_count": 127,
   "id": "5ef156b2-b6ea-4f26-99e6-31a92307e8a7",
   "metadata": {},
   "outputs": [
    {
     "data": {
      "text/plain": [
       "[['NAME', 'DOMAIN', 'AGE', 'LOCATION', 'SALARY', 'EXP'],\n",
       " ['Shrniwas', 'Testing', 26, 'Bengaluru', 5000, 5],\n",
       " ['Mudita', 'DA', 29, 'Chennai', 5500, 7],\n",
       " ['Rahul', 'Java', 28, 'Pune', 6000, 5],\n",
       " ['Riya', 'c', 30, 'Hydrabad', 7500, 6],\n",
       " ['Govid', 'Java', 27, 'Pune', 8000, 4]]"
      ]
     },
     "execution_count": 127,
     "metadata": {},
     "output_type": "execute_result"
    }
   ],
   "source": [
    "data"
   ]
  },
  {
   "cell_type": "code",
   "execution_count": 128,
   "id": "bcb9120a-f5cc-4d58-b3bf-ad1d915de8c0",
   "metadata": {},
   "outputs": [
    {
     "data": {
      "text/plain": [
       "'C:\\\\Users\\\\Shriniwas'"
      ]
     },
     "execution_count": 128,
     "metadata": {},
     "output_type": "execute_result"
    }
   ],
   "source": [
    "import os\n",
    "os.getcwd()"
   ]
  },
  {
   "cell_type": "code",
   "execution_count": 129,
   "id": "b87734c6-ae87-48ce-b7b1-16eb7d6523d4",
   "metadata": {},
   "outputs": [
    {
     "data": {
      "text/html": [
       "<div>\n",
       "<style scoped>\n",
       "    .dataframe tbody tr th:only-of-type {\n",
       "        vertical-align: middle;\n",
       "    }\n",
       "\n",
       "    .dataframe tbody tr th {\n",
       "        vertical-align: top;\n",
       "    }\n",
       "\n",
       "    .dataframe thead th {\n",
       "        text-align: right;\n",
       "    }\n",
       "</style>\n",
       "<table border=\"1\" class=\"dataframe\">\n",
       "  <thead>\n",
       "    <tr style=\"text-align: right;\">\n",
       "      <th></th>\n",
       "      <th>NAME</th>\n",
       "      <th>DOMAIN</th>\n",
       "      <th>AGE</th>\n",
       "      <th>LOCATION</th>\n",
       "      <th>SALARY</th>\n",
       "      <th>EXP</th>\n",
       "    </tr>\n",
       "  </thead>\n",
       "  <tbody>\n",
       "    <tr>\n",
       "      <th>0</th>\n",
       "      <td>Shrniwas</td>\n",
       "      <td>Testing</td>\n",
       "      <td>26</td>\n",
       "      <td>Bengaluru</td>\n",
       "      <td>5000</td>\n",
       "      <td>5</td>\n",
       "    </tr>\n",
       "    <tr>\n",
       "      <th>1</th>\n",
       "      <td>Mudita</td>\n",
       "      <td>DA</td>\n",
       "      <td>29</td>\n",
       "      <td>Chennai</td>\n",
       "      <td>5500</td>\n",
       "      <td>7</td>\n",
       "    </tr>\n",
       "    <tr>\n",
       "      <th>2</th>\n",
       "      <td>Rahul</td>\n",
       "      <td>Java</td>\n",
       "      <td>28</td>\n",
       "      <td>Pune</td>\n",
       "      <td>6000</td>\n",
       "      <td>5</td>\n",
       "    </tr>\n",
       "    <tr>\n",
       "      <th>3</th>\n",
       "      <td>Riya</td>\n",
       "      <td>c</td>\n",
       "      <td>30</td>\n",
       "      <td>Hydrabad</td>\n",
       "      <td>7500</td>\n",
       "      <td>6</td>\n",
       "    </tr>\n",
       "    <tr>\n",
       "      <th>4</th>\n",
       "      <td>Govid</td>\n",
       "      <td>Java</td>\n",
       "      <td>27</td>\n",
       "      <td>Pune</td>\n",
       "      <td>8000</td>\n",
       "      <td>4</td>\n",
       "    </tr>\n",
       "  </tbody>\n",
       "</table>\n",
       "</div>"
      ],
      "text/plain": [
       "       NAME   DOMAIN  AGE   LOCATION  SALARY  EXP\n",
       "0  Shrniwas  Testing   26  Bengaluru    5000    5\n",
       "1    Mudita       DA   29    Chennai    5500    7\n",
       "2     Rahul     Java   28       Pune    6000    5\n",
       "3      Riya        c   30   Hydrabad    7500    6\n",
       "4     Govid     Java   27       Pune    8000    4"
      ]
     },
     "execution_count": 129,
     "metadata": {},
     "output_type": "execute_result"
    }
   ],
   "source": [
    "emp= pd.read_excel('C:\\\\Users\\\\Shriniwas\\\\data.xlsx')\n",
    "emp"
   ]
  },
  {
   "cell_type": "markdown",
   "id": "d56e03aa-60f6-45b5-9973-bbeec1dd5e50",
   "metadata": {},
   "source": [
    "# To check the no. of columns and rows"
   ]
  },
  {
   "cell_type": "code",
   "execution_count": 130,
   "id": "7f8f7397-6620-4bcb-a501-4803d4bffff9",
   "metadata": {},
   "outputs": [
    {
     "data": {
      "text/plain": [
       "(5, 6)"
      ]
     },
     "execution_count": 130,
     "metadata": {},
     "output_type": "execute_result"
    }
   ],
   "source": [
    "emp.shape         "
   ]
  },
  {
   "cell_type": "markdown",
   "id": "20a03624-5f8b-4049-8f02-ea1f5da13b5e",
   "metadata": {},
   "source": [
    "# To check the no. of columns"
   ]
  },
  {
   "cell_type": "code",
   "execution_count": 131,
   "id": "7e1529b2-6485-48fa-93ce-e24f88a148c3",
   "metadata": {},
   "outputs": [
    {
     "data": {
      "text/plain": [
       "6"
      ]
     },
     "execution_count": 131,
     "metadata": {},
     "output_type": "execute_result"
    }
   ],
   "source": [
    "len(emp.columns)       "
   ]
  },
  {
   "cell_type": "markdown",
   "id": "e005b976-14de-4ad2-93b0-04a1142f22bf",
   "metadata": {},
   "source": [
    " # To check the no. of rows"
   ]
  },
  {
   "cell_type": "code",
   "execution_count": 132,
   "id": "536db1ff-1f2c-46e9-ba93-0cbc93883fad",
   "metadata": {},
   "outputs": [
    {
     "data": {
      "text/plain": [
       "5"
      ]
     },
     "execution_count": 132,
     "metadata": {},
     "output_type": "execute_result"
    }
   ],
   "source": [
    "len(emp)               "
   ]
  },
  {
   "cell_type": "markdown",
   "id": "2c9c98d1-00ad-4427-ab79-ba77e0c1183d",
   "metadata": {},
   "source": [
    "# To display the Single/Specfic Coloumn"
   ]
  },
  {
   "cell_type": "code",
   "execution_count": 133,
   "id": "70727109-3bf4-4604-93f4-fb7fa8bf4a1e",
   "metadata": {},
   "outputs": [
    {
     "data": {
      "text/plain": [
       "0    5000\n",
       "1    5500\n",
       "2    6000\n",
       "3    7500\n",
       "4    8000\n",
       "Name: SALARY, dtype: int64"
      ]
     },
     "execution_count": 133,
     "metadata": {},
     "output_type": "execute_result"
    }
   ],
   "source": [
    "emp['SALARY']             "
   ]
  },
  {
   "cell_type": "markdown",
   "id": "1f7e7719-aba0-4997-9f4e-77f00dd95024",
   "metadata": {},
   "source": [
    "# To display the Multiple Coloumns"
   ]
  },
  {
   "cell_type": "code",
   "execution_count": 134,
   "id": "9a4881c1-2c82-453c-a379-b1b8f0334d54",
   "metadata": {},
   "outputs": [
    {
     "data": {
      "text/html": [
       "<div>\n",
       "<style scoped>\n",
       "    .dataframe tbody tr th:only-of-type {\n",
       "        vertical-align: middle;\n",
       "    }\n",
       "\n",
       "    .dataframe tbody tr th {\n",
       "        vertical-align: top;\n",
       "    }\n",
       "\n",
       "    .dataframe thead th {\n",
       "        text-align: right;\n",
       "    }\n",
       "</style>\n",
       "<table border=\"1\" class=\"dataframe\">\n",
       "  <thead>\n",
       "    <tr style=\"text-align: right;\">\n",
       "      <th></th>\n",
       "      <th>NAME</th>\n",
       "      <th>SALARY</th>\n",
       "      <th>EXP</th>\n",
       "    </tr>\n",
       "  </thead>\n",
       "  <tbody>\n",
       "    <tr>\n",
       "      <th>0</th>\n",
       "      <td>Shrniwas</td>\n",
       "      <td>5000</td>\n",
       "      <td>5</td>\n",
       "    </tr>\n",
       "    <tr>\n",
       "      <th>1</th>\n",
       "      <td>Mudita</td>\n",
       "      <td>5500</td>\n",
       "      <td>7</td>\n",
       "    </tr>\n",
       "    <tr>\n",
       "      <th>2</th>\n",
       "      <td>Rahul</td>\n",
       "      <td>6000</td>\n",
       "      <td>5</td>\n",
       "    </tr>\n",
       "    <tr>\n",
       "      <th>3</th>\n",
       "      <td>Riya</td>\n",
       "      <td>7500</td>\n",
       "      <td>6</td>\n",
       "    </tr>\n",
       "    <tr>\n",
       "      <th>4</th>\n",
       "      <td>Govid</td>\n",
       "      <td>8000</td>\n",
       "      <td>4</td>\n",
       "    </tr>\n",
       "  </tbody>\n",
       "</table>\n",
       "</div>"
      ],
      "text/plain": [
       "       NAME  SALARY  EXP\n",
       "0  Shrniwas    5000    5\n",
       "1    Mudita    5500    7\n",
       "2     Rahul    6000    5\n",
       "3      Riya    7500    6\n",
       "4     Govid    8000    4"
      ]
     },
     "execution_count": 134,
     "metadata": {},
     "output_type": "execute_result"
    }
   ],
   "source": [
    "emp[['NAME','SALARY','EXP']]       "
   ]
  },
  {
   "cell_type": "markdown",
   "id": "a9e14a33-950f-4261-a260-8270371e6e65",
   "metadata": {},
   "source": [
    "# To display the ALL Coloumns"
   ]
  },
  {
   "cell_type": "code",
   "execution_count": 135,
   "id": "70064d59-6502-427a-8abc-752bf3fc17f9",
   "metadata": {},
   "outputs": [
    {
     "data": {
      "text/html": [
       "<div>\n",
       "<style scoped>\n",
       "    .dataframe tbody tr th:only-of-type {\n",
       "        vertical-align: middle;\n",
       "    }\n",
       "\n",
       "    .dataframe tbody tr th {\n",
       "        vertical-align: top;\n",
       "    }\n",
       "\n",
       "    .dataframe thead th {\n",
       "        text-align: right;\n",
       "    }\n",
       "</style>\n",
       "<table border=\"1\" class=\"dataframe\">\n",
       "  <thead>\n",
       "    <tr style=\"text-align: right;\">\n",
       "      <th></th>\n",
       "      <th>NAME</th>\n",
       "      <th>DOMAIN</th>\n",
       "      <th>AGE</th>\n",
       "      <th>LOCATION</th>\n",
       "      <th>SALARY</th>\n",
       "      <th>EXP</th>\n",
       "    </tr>\n",
       "  </thead>\n",
       "  <tbody>\n",
       "    <tr>\n",
       "      <th>0</th>\n",
       "      <td>Shrniwas</td>\n",
       "      <td>Testing</td>\n",
       "      <td>26</td>\n",
       "      <td>Bengaluru</td>\n",
       "      <td>5000</td>\n",
       "      <td>5</td>\n",
       "    </tr>\n",
       "    <tr>\n",
       "      <th>1</th>\n",
       "      <td>Mudita</td>\n",
       "      <td>DA</td>\n",
       "      <td>29</td>\n",
       "      <td>Chennai</td>\n",
       "      <td>5500</td>\n",
       "      <td>7</td>\n",
       "    </tr>\n",
       "    <tr>\n",
       "      <th>2</th>\n",
       "      <td>Rahul</td>\n",
       "      <td>Java</td>\n",
       "      <td>28</td>\n",
       "      <td>Pune</td>\n",
       "      <td>6000</td>\n",
       "      <td>5</td>\n",
       "    </tr>\n",
       "    <tr>\n",
       "      <th>3</th>\n",
       "      <td>Riya</td>\n",
       "      <td>c</td>\n",
       "      <td>30</td>\n",
       "      <td>Hydrabad</td>\n",
       "      <td>7500</td>\n",
       "      <td>6</td>\n",
       "    </tr>\n",
       "    <tr>\n",
       "      <th>4</th>\n",
       "      <td>Govid</td>\n",
       "      <td>Java</td>\n",
       "      <td>27</td>\n",
       "      <td>Pune</td>\n",
       "      <td>8000</td>\n",
       "      <td>4</td>\n",
       "    </tr>\n",
       "  </tbody>\n",
       "</table>\n",
       "</div>"
      ],
      "text/plain": [
       "       NAME   DOMAIN  AGE   LOCATION  SALARY  EXP\n",
       "0  Shrniwas  Testing   26  Bengaluru    5000    5\n",
       "1    Mudita       DA   29    Chennai    5500    7\n",
       "2     Rahul     Java   28       Pune    6000    5\n",
       "3      Riya        c   30   Hydrabad    7500    6\n",
       "4     Govid     Java   27       Pune    8000    4"
      ]
     },
     "execution_count": 135,
     "metadata": {},
     "output_type": "execute_result"
    }
   ],
   "source": [
    "emp[:]                     "
   ]
  },
  {
   "cell_type": "markdown",
   "id": "01f4a2b2-22f8-4ee0-8c30-c48fe9a6f87f",
   "metadata": {},
   "source": [
    "# numpy FOR MULTIDIMENTIONAL ARRAY LIBRARY"
   ]
  },
  {
   "cell_type": "code",
   "execution_count": 136,
   "id": "cff18876-5ed5-453d-9350-cda0b8f238dc",
   "metadata": {},
   "outputs": [],
   "source": [
    "import numpy as np             "
   ]
  },
  {
   "cell_type": "markdown",
   "id": "74e75fe0-c623-498d-8e3a-b885f7eb17b9",
   "metadata": {},
   "source": [
    "# matplotlib.pyplot FOR VISUALIZATION"
   ]
  },
  {
   "cell_type": "code",
   "execution_count": 137,
   "id": "d9c30ee0-a86e-4224-bb15-3c807bf3edc6",
   "metadata": {},
   "outputs": [],
   "source": [
    "import matplotlib.pyplot as plt  "
   ]
  },
  {
   "cell_type": "markdown",
   "id": "7f5eee0b-f520-4175-961b-3e775c73d0f4",
   "metadata": {},
   "source": [
    "# seaborn FOR THE STATIC VISUALIZATION"
   ]
  },
  {
   "cell_type": "code",
   "execution_count": 138,
   "id": "0919dd4b-ac3e-44c8-9428-b43e7c79c844",
   "metadata": {},
   "outputs": [],
   "source": [
    " import seaborn as sns             "
   ]
  },
  {
   "cell_type": "code",
   "execution_count": 139,
   "id": "732d49e7-52d8-449a-b7cf-eba058cdf2c1",
   "metadata": {},
   "outputs": [
    {
     "data": {
      "text/html": [
       "<div>\n",
       "<style scoped>\n",
       "    .dataframe tbody tr th:only-of-type {\n",
       "        vertical-align: middle;\n",
       "    }\n",
       "\n",
       "    .dataframe tbody tr th {\n",
       "        vertical-align: top;\n",
       "    }\n",
       "\n",
       "    .dataframe thead th {\n",
       "        text-align: right;\n",
       "    }\n",
       "</style>\n",
       "<table border=\"1\" class=\"dataframe\">\n",
       "  <thead>\n",
       "    <tr style=\"text-align: right;\">\n",
       "      <th></th>\n",
       "      <th>NAME</th>\n",
       "      <th>DOMAIN</th>\n",
       "      <th>AGE</th>\n",
       "      <th>LOCATION</th>\n",
       "      <th>SALARY</th>\n",
       "      <th>EXP</th>\n",
       "    </tr>\n",
       "  </thead>\n",
       "  <tbody>\n",
       "    <tr>\n",
       "      <th>0</th>\n",
       "      <td>Shrniwas</td>\n",
       "      <td>Testing</td>\n",
       "      <td>26</td>\n",
       "      <td>Bengaluru</td>\n",
       "      <td>5000</td>\n",
       "      <td>5</td>\n",
       "    </tr>\n",
       "    <tr>\n",
       "      <th>1</th>\n",
       "      <td>Mudita</td>\n",
       "      <td>DA</td>\n",
       "      <td>29</td>\n",
       "      <td>Chennai</td>\n",
       "      <td>5500</td>\n",
       "      <td>7</td>\n",
       "    </tr>\n",
       "    <tr>\n",
       "      <th>2</th>\n",
       "      <td>Rahul</td>\n",
       "      <td>Java</td>\n",
       "      <td>28</td>\n",
       "      <td>Pune</td>\n",
       "      <td>6000</td>\n",
       "      <td>5</td>\n",
       "    </tr>\n",
       "    <tr>\n",
       "      <th>3</th>\n",
       "      <td>Riya</td>\n",
       "      <td>c</td>\n",
       "      <td>30</td>\n",
       "      <td>Hydrabad</td>\n",
       "      <td>7500</td>\n",
       "      <td>6</td>\n",
       "    </tr>\n",
       "    <tr>\n",
       "      <th>4</th>\n",
       "      <td>Govid</td>\n",
       "      <td>Java</td>\n",
       "      <td>27</td>\n",
       "      <td>Pune</td>\n",
       "      <td>8000</td>\n",
       "      <td>4</td>\n",
       "    </tr>\n",
       "  </tbody>\n",
       "</table>\n",
       "</div>"
      ],
      "text/plain": [
       "       NAME   DOMAIN  AGE   LOCATION  SALARY  EXP\n",
       "0  Shrniwas  Testing   26  Bengaluru    5000    5\n",
       "1    Mudita       DA   29    Chennai    5500    7\n",
       "2     Rahul     Java   28       Pune    6000    5\n",
       "3      Riya        c   30   Hydrabad    7500    6\n",
       "4     Govid     Java   27       Pune    8000    4"
      ]
     },
     "execution_count": 139,
     "metadata": {},
     "output_type": "execute_result"
    }
   ],
   "source": [
    "emp"
   ]
  },
  {
   "cell_type": "code",
   "execution_count": 140,
   "id": "f72edc3b-13e8-4aa2-9635-db1302256d5e",
   "metadata": {},
   "outputs": [
    {
     "data": {
      "image/png": "[encoded data removed]",
      "text/plain": [
       "<Figure size 500x500 with 1 Axes>"
      ]
     },
     "metadata": {},
     "output_type": "display_data"
    }
   ],
   "source": [
    "vis1 = sns.displot(emp['SALARY'])   "
   ]
  },
  {
   "cell_type": "code",
   "execution_count": 141,
   "id": "3a92f827-cc6b-4620-853a-bfce09f614ed",
   "metadata": {},
   "outputs": [
    {
     "data": {
      "image/png": "[encoded data removed]",
      "text/plain": [
       "<Figure size 500x500 with 1 Axes>"
      ]
     },
     "metadata": {},
     "output_type": "display_data"
    }
   ],
   "source": [
    "vis2 = sns.lmplot(data = emp, x= 'SALARY', y= 'EXP')"
   ]
  },
  {
   "cell_type": "code",
   "execution_count": 142,
   "id": "02583ef1-4853-4849-9726-660d3c0a1c0f",
   "metadata": {},
   "outputs": [
    {
     "data": {
      "image/png": "[encoded data removed]",
      "text/plain": [
       "<Figure size 500x500 with 1 Axes>"
      ]
     },
     "metadata": {},
     "output_type": "display_data"
    }
   ],
   "source": [
    "vis3 = sns.lmplot(data = emp, x= 'SALARY', y= 'EXP', fit_reg = False)"
   ]
  },
  {
   "cell_type": "code",
   "execution_count": 144,
   "id": "2e293c3a-67a8-459d-98dc-972e4847277c",
   "metadata": {},
   "outputs": [
    {
     "data": {
      "image/png": "[encoded data removed]",
      "text/plain": [
       "<Figure size 500x500 with 1 Axes>"
      ]
     },
     "metadata": {},
     "output_type": "display_data"
    }
   ],
   "source": [
    "vis4=sns.lmplot(data=emp,x='EXP',y='SALARY',fit_reg=True)"
   ]
  },
  {
   "cell_type": "code",
   "execution_count": 145,
   "id": "e9dfc91f-96cb-4eb0-b1fa-f1c611eb488c",
   "metadata": {},
   "outputs": [
    {
     "data": {
      "image/png": "[encoded data removed]",
      "text/plain": [
       "<Figure size 500x100 with 1 Axes>"
      ]
     },
     "metadata": {},
     "output_type": "display_data"
    }
   ],
   "source": [
    "vis5 = plt.hist(emp['SALARY'])"
   ]
  },
  {
   "cell_type": "code",
   "execution_count": null,
   "id": "103681ed-e848-45ef-9d01-a95d77c7980d",
   "metadata": {},
   "outputs": [],
   "source": []
  }
 ],
 "metadata": {
  "kernelspec": {
   "display_name": "Python 3 (ipykernel)",
   "language": "python",
   "name": "python3"
  },
  "language_info": {
   "codemirror_mode": {
    "name": "ipython",
    "version": 3
   },
   "file_extension": ".py",
   "mimetype": "text/x-python",
   "name": "python",
   "nbconvert_exporter": "python",
   "pygments_lexer": "ipython3",
   "version": "3.12.4"
  }
 },
 "nbformat": 4,
 "nbformat_minor": 5
}
